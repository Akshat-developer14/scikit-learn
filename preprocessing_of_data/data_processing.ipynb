{
 "cells": [
  {
   "cell_type": "markdown",
   "id": "34d9cdee",
   "metadata": {},
   "source": [
    "# Label Encoding in Scikit-learn"
   ]
  },
  {
   "cell_type": "code",
   "execution_count": 8,
   "id": "fabe5d99",
   "metadata": {},
   "outputs": [],
   "source": [
    "from sklearn.preprocessing import LabelEncoder\n",
    "import pandas as pd"
   ]
  },
  {
   "cell_type": "code",
   "execution_count": 9,
   "id": "5f8ecbd1",
   "metadata": {},
   "outputs": [
    {
     "name": "stdout",
     "output_type": "stream",
     "text": [
      "\n",
      "   Label Encoded Data  \n",
      "\n",
      "    name  gender  Gender_Encoded passed  Passed_Encoded\n",
      "0  Aarav    Male               1    Yes               1\n",
      "1   Isha  Female               0    Yes               1\n",
      "2  Rohan    Male               1     No               0\n",
      "3  Meera  Female               0    Yes               1\n",
      "4  Kabir    Male               1    Yes               1\n",
      "\n",
      "   One-Hot Encoded Data  \n",
      "\n",
      "    name  gender passed  Gender_Encoded  Passed_Encoded  city_Bangalore  \\\n",
      "0  Aarav    Male    Yes               1               1               0   \n",
      "1   Isha  Female    Yes               0               1               0   \n",
      "2  Rohan    Male     No               1               0               1   \n",
      "3  Meera  Female    Yes               0               1               0   \n",
      "4  Kabir    Male    Yes               1               1               0   \n",
      "\n",
      "   city_Chennai  city_Delhi  city_Mumbai  \n",
      "0             0           0            1  \n",
      "1             0           1            0  \n",
      "2             0           0            0  \n",
      "3             1           0            0  \n",
      "4             0           0            1  \n"
     ]
    }
   ],
   "source": [
    "df = pd.read_csv('data.csv')\n",
    "\n",
    "df_label = df.copy()\n",
    "\n",
    "le_gender = LabelEncoder()\n",
    "\n",
    "df_label['Gender_Encoded'] = le_gender.fit_transform(df_label['gender'])\n",
    "\n",
    "le_passed = LabelEncoder()\n",
    "df_label['Passed_Encoded'] = le_passed.fit_transform(df_label['passed'])\n",
    "\n",
    "print('\\n   Label Encoded Data  \\n')\n",
    "print(df_label[['name', 'gender', 'Gender_Encoded', 'passed', 'Passed_Encoded']].head(5))\n",
    "\n",
    "df_encoded = pd.get_dummies(df_label, columns=['city'])\n",
    "bool_cols = df_encoded.select_dtypes(include='bool').columns\n",
    "df_encoded[bool_cols] = df_encoded[bool_cols].astype(int)\n",
    "print('\\n   One-Hot Encoded Data  \\n')\n",
    "print(df_encoded.head(5))"
   ]
  }
 ],
 "metadata": {
  "kernelspec": {
   "display_name": "scikit-learn-learning",
   "language": "python",
   "name": "python3"
  },
  "language_info": {
   "codemirror_mode": {
    "name": "ipython",
    "version": 3
   },
   "file_extension": ".py",
   "mimetype": "text/x-python",
   "name": "python",
   "nbconvert_exporter": "python",
   "pygments_lexer": "ipython3",
   "version": "3.12.6"
  }
 },
 "nbformat": 4,
 "nbformat_minor": 5
}
