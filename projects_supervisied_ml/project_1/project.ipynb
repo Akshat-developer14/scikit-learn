{
 "cells": [
  {
   "cell_type": "markdown",
   "id": "fbdf9f5c",
   "metadata": {},
   "source": [
    "# Project 1: Predicting Student Performance in Exams"
   ]
  },
  {
   "cell_type": "code",
   "execution_count": 1,
   "id": "6ac79dab",
   "metadata": {},
   "outputs": [],
   "source": [
    "import numpy as np\n",
    "import pandas as pd\n",
    "from sklearn.model_selection import train_test_split\n",
    "from sklearn.linear_model import LinearRegression\n",
    "from sklearn.metrics import mean_absolute_error, mean_squared_error"
   ]
  },
  {
   "cell_type": "code",
   "execution_count": 5,
   "id": "cf7aff9e",
   "metadata": {},
   "outputs": [],
   "source": [
    "data = pd.read_csv('students.csv')"
   ]
  },
  {
   "cell_type": "code",
   "execution_count": 9,
   "id": "ebf43942",
   "metadata": {},
   "outputs": [
    {
     "name": "stdout",
     "output_type": "stream",
     "text": [
      "Mean Absolute Error: 0.6666666666666643\n",
      "Mean Squared Error: 0.6285714285714282\n",
      "Root Mean Squared Error: 0.7928249671720916\n",
      "Predicted score for 7 hours of study: 86.4\n"
     ]
    },
    {
     "name": "stderr",
     "output_type": "stream",
     "text": [
      "c:\\Users\\aksha\\OneDrive\\Documents\\GitHub\\scikit-learn_learning\\.venv\\Lib\\site-packages\\sklearn\\utils\\validation.py:2749: UserWarning: X does not have valid feature names, but LinearRegression was fitted with feature names\n",
      "  warnings.warn(\n"
     ]
    }
   ],
   "source": [
    "X = data[['Hours']]\n",
    "y = data['Score']\n",
    "\n",
    "model = LinearRegression()\n",
    "model.fit(X, y)\n",
    "\n",
    "predicted_score = model.predict(X)\n",
    "\n",
    "# Evaluate the model\n",
    "mae = mean_absolute_error(y, predicted_score)\n",
    "print(f\"Mean Absolute Error: {mae}\")\n",
    "\n",
    "mse = mean_squared_error(y, predicted_score)\n",
    "print(f\"Mean Squared Error: {mse}\")\n",
    "\n",
    "rmse = np.sqrt(mse)\n",
    "print(f\"Root Mean Squared Error: {rmse}\")\n",
    "\n",
    "# Predict for a new value\n",
    "new_hour = 7\n",
    "new_predicted_score = model.predict([[new_hour]])\n",
    "print(f\"Predicted score for {new_hour} hours of study: {new_predicted_score[0]}\")"
   ]
  }
 ],
 "metadata": {
  "kernelspec": {
   "display_name": "scikit-learn-learning",
   "language": "python",
   "name": "python3"
  },
  "language_info": {
   "codemirror_mode": {
    "name": "ipython",
    "version": 3
   },
   "file_extension": ".py",
   "mimetype": "text/x-python",
   "name": "python",
   "nbconvert_exporter": "python",
   "pygments_lexer": "ipython3",
   "version": "3.12.6"
  }
 },
 "nbformat": 4,
 "nbformat_minor": 5
}
